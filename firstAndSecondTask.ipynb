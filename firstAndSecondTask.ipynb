{
 "cells": [
  {
   "cell_type": "markdown",
   "id": "9438b905-159b-47b8-b91c-66041fb769b7",
   "metadata": {},
   "source": [
    "# Task no. 1: What is FOR loop?"
   ]
  },
  {
   "cell_type": "code",
   "execution_count": 11,
   "id": "6859f03a-5b8f-434d-909a-7593855f7d65",
   "metadata": {},
   "outputs": [
    {
     "name": "stdout",
     "output_type": "stream",
     "text": [
      "example1 is:  1\n",
      "example2 is:  6\n",
      "example3 is:  55\n",
      "limit is:  50000000000000014199478637615598758708475143913472\n",
      "limit exec time:  2.100000074278796e-06\n"
     ]
    }
   ],
   "source": [
    "import timeit\n",
    "\n",
    "limit = pow(10, 25)\n",
    "\n",
    "def arithmetic_progression_sum(input_value = limit):   \n",
    "    return (((1 + input_value) / 2) * input_value)\n",
    "\n",
    "print('example1 is: ', int(arithmetic_progression_sum(1)))\n",
    "print('example2 is: ', int(arithmetic_progression_sum(3)))\n",
    "print('example3 is: ', int(arithmetic_progression_sum(10)))\n",
    "print('limit is: ', int(arithmetic_progression_sum(limit)))\n",
    "print('limit exec time: ', timeit.timeit(arithmetic_progression_sum, number = 1))"
   ]
  },
  {
   "cell_type": "markdown",
   "id": "02753a31-fbc2-4124-964a-1987f97f43ba",
   "metadata": {},
   "source": [
    "# Task no. 2: Counting islands"
   ]
  },
  {
   "cell_type": "code",
   "execution_count": 57,
   "id": "1d3fb1b5-6d45-4cfb-8064-f2cc27f4f82e",
   "metadata": {},
   "outputs": [
    {
     "name": "stdout",
     "output_type": "stream",
     "text": [
      "[[0 1 0]\n",
      " [0 0 0]\n",
      " [0 1 1]] Number of islands is: 2\n",
      "[[0 0 0 1]\n",
      " [0 0 1 0]\n",
      " [0 1 0 0]] Number of islands is: 3\n",
      "[[0 0 0 1]\n",
      " [0 0 1 1]\n",
      " [0 1 0 1]] Number of islands is: 2\n",
      "[[1 0 1 0]\n",
      " [0 1 0 1]\n",
      " [1 0 1 0]] Number of islands is: 6\n"
     ]
    }
   ],
   "source": [
    "import numpy as np\n",
    "\n",
    "matrix_a = np.array([[0, 1, 0],[0, 0, 0],[0, 1, 1]])\n",
    "matrix_b = np.array([[0, 0, 0, 1],[0, 0, 1, 0],[0, 1, 0, 0]])\n",
    "matrix_c = np.array([[0, 0, 0, 1],[0, 0, 1, 1],[0, 1, 0, 1]])\n",
    "matrix_d = np.array([[1, 0, 1, 0],[0, 1, 0, 1],[1, 0, 1, 0]])\n",
    "\n",
    "def check_for_more_land(matrix_map, rows, columns, row, column):\n",
    "    if ((row < 0) or (row >= rows) or (column < 0) or (column >= columns) or (matrix_map[row][column] == 0)):\n",
    "        pass\n",
    "    else:\n",
    "        matrix_map[row][column] = 0 # marks as visited\n",
    "\n",
    "        check_for_more_land(matrix_map, rows, columns, row + 1, column)\n",
    "        check_for_more_land(matrix_map, rows, columns, row - 1, column)\n",
    "        check_for_more_land(matrix_map, rows, columns, row, column + 1)\n",
    "        check_for_more_land(matrix_map, rows, columns, row, column - 1)\n",
    "    \n",
    "def count_islands(matrix_map):\n",
    "    rows, columns = matrix_map.shape\n",
    "    islands_counter = 0\n",
    "    map_copy = np.copy(matrix_map)\n",
    "    for row, x in enumerate(map_copy):\n",
    "        for column, y in enumerate(x):\n",
    "            if y == 1:\n",
    "                check_for_more_land(map_copy, rows, columns, row, column)\n",
    "                islands_counter += 1\n",
    "    return islands_counter\n",
    "\n",
    "print(matrix_a, 'Number of islands is:',count_islands(matrix_a))\n",
    "print(matrix_b, 'Number of islands is:',count_islands(matrix_b))\n",
    "print(matrix_c, 'Number of islands is:',count_islands(matrix_c))\n",
    "print(matrix_d, 'Number of islands is:',count_islands(matrix_d))\n",
    "\n",
    "    \n",
    "    "
   ]
  }
 ],
 "metadata": {
  "kernelspec": {
   "display_name": "Python 3 (ipykernel)",
   "language": "python",
   "name": "python3"
  },
  "language_info": {
   "codemirror_mode": {
    "name": "ipython",
    "version": 3
   },
   "file_extension": ".py",
   "mimetype": "text/x-python",
   "name": "python",
   "nbconvert_exporter": "python",
   "pygments_lexer": "ipython3",
   "version": "3.9.12"
  }
 },
 "nbformat": 4,
 "nbformat_minor": 5
}
